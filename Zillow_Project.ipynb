{
 "cells": [
  {
   "cell_type": "code",
   "execution_count": 1,
   "metadata": {},
   "outputs": [],
   "source": [
    "import pandas as pd\n",
    "import numpy as np\n",
    "import matplotlib.pyplot as plt\n",
    "import seaborn as sns\n",
    "from sklearn.model_selection import train_test_split\n",
    "from sklearn.preprocessing import StandardScaler, MinMaxScaler\n",
    "from sklearn.metrics import mean_squared_error, r2_score, explained_variance_score\n",
    "\n",
    "import warnings\n",
    "warnings.filterwarnings(\"ignore\")\n",
    "import statsmodels.api as sm\n",
    "from statsmodels.formula.api import ols\n",
    "\n",
    "import repyrt as rpt\n",
    "\n",
    "rpt.local_settings['DEBUG'] = True"
   ]
  },
  {
   "cell_type": "code",
   "execution_count": 2,
   "metadata": {},
   "outputs": [
    {
     "name": "stdout",
     "output_type": "stream",
     "text": [
      "get_sql ('test_sql',) {}\n",
      "ending get_sql ; time: 2.86102294921875e-06\n",
      "test\n"
     ]
    }
   ],
   "source": [
    "print(rpt.get_sql('test_sql'))"
   ]
  },
  {
   "cell_type": "code",
   "execution_count": 3,
   "metadata": {},
   "outputs": [
    {
     "name": "stdout",
     "output_type": "stream",
     "text": [
      "starting acquire_data\n",
      "wrangle_zillow () {'db': 'zillow', 'sql': 'zillow_sql', 'sql_string': False}\n",
      "starting get_db_url\n",
      "ending get_db_url ; time: 3.0994415283203125e-06\n",
      "get_sql () {'sql': 'zillow_sql'}\n",
      "ending get_sql ; time: 3.0994415283203125e-06\n",
      "ending wrangle_zillow ; time: 24.863314151763916\n",
      "ending acquire_data ; time: 24.864372968673706\n"
     ]
    }
   ],
   "source": [
    "props = rpt.acquire_data()"
   ]
  },
  {
   "cell_type": "code",
   "execution_count": 4,
   "metadata": {},
   "outputs": [
    {
     "name": "stdout",
     "output_type": "stream",
     "text": [
      "starting frame_splain\n",
      "<class 'pandas.core.frame.DataFrame'>\n",
      "RangeIndex: 18639 entries, 0 to 18638\n",
      "Data columns (total 62 columns):\n",
      "bathroomcnt                     18639 non-null float64\n",
      "bedroomcnt                      18639 non-null float64\n",
      "calculatedfinishedsquarefeet    18639 non-null float64\n",
      "taxvaluedollarcnt               18639 non-null float64\n",
      "county                          18639 non-null object\n",
      "tax_rate                        18639 non-null float64\n",
      "id                              18639 non-null int64\n",
      "parcelid                        18639 non-null int64\n",
      "airconditioningtypeid           6547 non-null float64\n",
      "airconditioningdesc             6547 non-null object\n",
      "basementsqft                    12 non-null float64\n",
      "buildingqualitytypeid           12842 non-null float64\n",
      "calculatedbathnbr               18633 non-null float64\n",
      "decktypeid                      140 non-null float64\n",
      "finishedfloor1squarefeet        1485 non-null float64\n",
      "finishedsquarefeet12            18589 non-null float64\n",
      "finishedsquarefeet13            7 non-null float64\n",
      "finishedsquarefeet15            2 non-null float64\n",
      "finishedsquarefeet50            1485 non-null float64\n",
      "finishedsquarefeet6             41 non-null float64\n",
      "fips                            18639 non-null float64\n",
      "state                           18639 non-null object\n",
      "fireplacecnt                    2222 non-null float64\n",
      "fullbathcnt                     18633 non-null float64\n",
      "garagecarcnt                    5563 non-null float64\n",
      "garagetotalsqft                 5563 non-null float64\n",
      "hashottuborspa                  476 non-null float64\n",
      "heatingorsystemtypeid           12937 non-null float64\n",
      "heatingorsystemdesc             12937 non-null object\n",
      "latitude                        18639 non-null float64\n",
      "longitude                       18639 non-null float64\n",
      "lotsizesquarefeet               18639 non-null float64\n",
      "poolcnt                         4509 non-null float64\n",
      "poolsizesum                     266 non-null float64\n",
      "pooltypeid10                    134 non-null float64\n",
      "pooltypeid2                     342 non-null float64\n",
      "pooltypeid7                     4164 non-null float64\n",
      "propertycountylandusecode       18639 non-null object\n",
      "propertylandusetypeid           18639 non-null float64\n",
      "propertylandusedesc             18639 non-null object\n",
      "propertyzoningdesc              12901 non-null object\n",
      "rawcensustractandblock          18639 non-null float64\n",
      "regionidcity                    18275 non-null float64\n",
      "regionidcounty                  18639 non-null float64\n",
      "regionidneighborhood            7554 non-null float64\n",
      "regionidzip                     18633 non-null float64\n",
      "roomcnt                         18639 non-null float64\n",
      "threequarterbathnbr             2128 non-null float64\n",
      "unitcnt                         12917 non-null float64\n",
      "yardbuildingsqft17              654 non-null float64\n",
      "yardbuildingsqft26              22 non-null float64\n",
      "yearbuilt                       18622 non-null float64\n",
      "numberofstories                 4377 non-null float64\n",
      "fireplaceflag                   23 non-null float64\n",
      "structuretaxvaluedollarcnt      18624 non-null float64\n",
      "assessmentyear                  18639 non-null float64\n",
      "landtaxvaluedollarcnt           18639 non-null float64\n",
      "taxamount                       18639 non-null float64\n",
      "taxdelinquencyflag              638 non-null object\n",
      "taxdelinquencyyear              638 non-null float64\n",
      "censustractandblock             18614 non-null float64\n",
      "transactiondate                 18639 non-null object\n",
      "dtypes: float64(51), int64(2), object(9)\n",
      "memory usage: 8.8+ MB\n",
      "props shape:\n",
      " (18639, 62) \n",
      "\n",
      "props description:\n",
      "         bathroomcnt    bedroomcnt  calculatedfinishedsquarefeet  \\\n",
      "count  18639.000000  18639.000000                  18639.000000   \n",
      "mean       2.329229      3.125168                   1831.181126   \n",
      "std        0.970814      0.986794                    952.169130   \n",
      "min        1.000000      1.000000                    242.000000   \n",
      "25%        2.000000      2.000000                   1214.000000   \n",
      "50%        2.000000      3.000000                   1582.000000   \n",
      "75%        3.000000      4.000000                   2179.000000   \n",
      "max       11.000000     11.000000                  15450.000000   \n",
      "\n",
      "       taxvaluedollarcnt      tax_rate            id      parcelid  \\\n",
      "count       1.863900e+04  18639.000000  1.863900e+04  1.863900e+04   \n",
      "mean        5.115606e+05      0.013260  1.510927e+06  1.283401e+07   \n",
      "std         6.698696e+05      0.006144  8.600526e+05  2.800759e+06   \n",
      "min         1.050400e+04      0.000141  3.490000e+02  1.071210e+07   \n",
      "25%         2.071050e+05      0.011698  7.731980e+05  1.143632e+07   \n",
      "50%         3.685350e+05      0.012282  1.527727e+06  1.243708e+07   \n",
      "75%         6.044115e+05      0.013505  2.254242e+06  1.402864e+07   \n",
      "max         2.385837e+07      0.452884  2.982270e+06  1.629608e+08   \n",
      "\n",
      "       airconditioningtypeid  basementsqft  buildingqualitytypeid  ...  \\\n",
      "count            6547.000000     12.000000           12842.000000  ...   \n",
      "mean                1.884375    756.333333               6.634636  ...   \n",
      "std                 3.091720    424.486927               1.681142  ...   \n",
      "min                 1.000000    280.000000               1.000000  ...   \n",
      "25%                 1.000000    548.500000               6.000000  ...   \n",
      "50%                 1.000000    670.000000               7.000000  ...   \n",
      "75%                 1.000000    842.250000               8.000000  ...   \n",
      "max                13.000000   1809.000000              12.000000  ...   \n",
      "\n",
      "       yardbuildingsqft26     yearbuilt  numberofstories  fireplaceflag  \\\n",
      "count           22.000000  18622.000000      4377.000000           23.0   \n",
      "mean           221.545455   1967.577489         1.425177            1.0   \n",
      "std            172.914437     22.790095         0.537392            0.0   \n",
      "min             28.000000   1878.000000         1.000000            1.0   \n",
      "25%             67.500000   1953.000000         1.000000            1.0   \n",
      "50%            195.000000   1967.000000         1.000000            1.0   \n",
      "75%            354.000000   1985.000000         2.000000            1.0   \n",
      "max            648.000000   2015.000000         3.000000            1.0   \n",
      "\n",
      "       structuretaxvaluedollarcnt  assessmentyear  landtaxvaluedollarcnt  \\\n",
      "count                1.862400e+04         18639.0           1.863900e+04   \n",
      "mean                 1.965540e+05          2016.0           3.151647e+05   \n",
      "std                  2.448407e+05             0.0           4.800303e+05   \n",
      "min                  4.700000e+02          2016.0           2.250000e+03   \n",
      "25%                  8.590550e+04          2016.0           8.174100e+04   \n",
      "50%                  1.406970e+05          2016.0           2.080470e+05   \n",
      "75%                  2.278292e+05          2016.0           3.921355e+05   \n",
      "max                  7.893568e+06          2016.0           1.635060e+07   \n",
      "\n",
      "           taxamount  taxdelinquencyyear  censustractandblock  \n",
      "count   18639.000000          638.000000         1.861400e+04  \n",
      "mean     6241.951004           14.065831         6.048206e+13  \n",
      "std      7755.302973            1.486324         2.058468e+11  \n",
      "min        19.920000            8.000000         6.037101e+13  \n",
      "25%      2739.735000           14.000000         6.037302e+13  \n",
      "50%      4586.810000           15.000000         6.037576e+13  \n",
      "75%      7251.650000           15.000000         6.059032e+13  \n",
      "max    276797.830000           15.000000         6.111009e+13  \n",
      "\n",
      "[8 rows x 53 columns] \n",
      "\n",
      "props info:\n",
      " None \n",
      "\n",
      "ending frame_splain ; time: 0.22449278831481934\n"
     ]
    }
   ],
   "source": [
    "rpt.frame_splain(props, 'props')"
   ]
  },
  {
   "cell_type": "code",
   "execution_count": 33,
   "metadata": {},
   "outputs": [
    {
     "ename": "AttributeError",
     "evalue": "'DataFrame' object has no attribute 'value_counts'",
     "output_type": "error",
     "traceback": [
      "\u001b[0;31m---------------------------------------------------------------------------\u001b[0m",
      "\u001b[0;31mAttributeError\u001b[0m                            Traceback (most recent call last)",
      "\u001b[0;32m<ipython-input-33-027876e6fc2d>\u001b[0m in \u001b[0;36m<module>\u001b[0;34m\u001b[0m\n\u001b[0;32m----> 1\u001b[0;31m \u001b[0mprops\u001b[0m\u001b[0;34m[\u001b[0m\u001b[0;34m[\u001b[0m\u001b[0;34m'regionidcity'\u001b[0m\u001b[0;34m,\u001b[0m\u001b[0;34m'tax_rate'\u001b[0m\u001b[0;34m]\u001b[0m\u001b[0;34m]\u001b[0m\u001b[0;34m.\u001b[0m\u001b[0mvalue_counts\u001b[0m\u001b[0;34m(\u001b[0m\u001b[0;34m)\u001b[0m\u001b[0;34m\u001b[0m\u001b[0;34m\u001b[0m\u001b[0m\n\u001b[0m",
      "\u001b[0;32m/usr/local/anaconda3/lib/python3.7/site-packages/pandas/core/generic.py\u001b[0m in \u001b[0;36m__getattr__\u001b[0;34m(self, name)\u001b[0m\n\u001b[1;32m   5065\u001b[0m             \u001b[0;32mif\u001b[0m \u001b[0mself\u001b[0m\u001b[0;34m.\u001b[0m\u001b[0m_info_axis\u001b[0m\u001b[0;34m.\u001b[0m\u001b[0m_can_hold_identifiers_and_holds_name\u001b[0m\u001b[0;34m(\u001b[0m\u001b[0mname\u001b[0m\u001b[0;34m)\u001b[0m\u001b[0;34m:\u001b[0m\u001b[0;34m\u001b[0m\u001b[0;34m\u001b[0m\u001b[0m\n\u001b[1;32m   5066\u001b[0m                 \u001b[0;32mreturn\u001b[0m \u001b[0mself\u001b[0m\u001b[0;34m[\u001b[0m\u001b[0mname\u001b[0m\u001b[0;34m]\u001b[0m\u001b[0;34m\u001b[0m\u001b[0;34m\u001b[0m\u001b[0m\n\u001b[0;32m-> 5067\u001b[0;31m             \u001b[0;32mreturn\u001b[0m \u001b[0mobject\u001b[0m\u001b[0;34m.\u001b[0m\u001b[0m__getattribute__\u001b[0m\u001b[0;34m(\u001b[0m\u001b[0mself\u001b[0m\u001b[0;34m,\u001b[0m \u001b[0mname\u001b[0m\u001b[0;34m)\u001b[0m\u001b[0;34m\u001b[0m\u001b[0;34m\u001b[0m\u001b[0m\n\u001b[0m\u001b[1;32m   5068\u001b[0m \u001b[0;34m\u001b[0m\u001b[0m\n\u001b[1;32m   5069\u001b[0m     \u001b[0;32mdef\u001b[0m \u001b[0m__setattr__\u001b[0m\u001b[0;34m(\u001b[0m\u001b[0mself\u001b[0m\u001b[0;34m,\u001b[0m \u001b[0mname\u001b[0m\u001b[0;34m,\u001b[0m \u001b[0mvalue\u001b[0m\u001b[0;34m)\u001b[0m\u001b[0;34m:\u001b[0m\u001b[0;34m\u001b[0m\u001b[0;34m\u001b[0m\u001b[0m\n",
      "\u001b[0;31mAttributeError\u001b[0m: 'DataFrame' object has no attribute 'value_counts'"
     ]
    }
   ],
   "source": [
    "#props[['regionidcity','tax_rate']].value_counts()"
   ]
  },
  {
   "cell_type": "code",
   "execution_count": 5,
   "metadata": {},
   "outputs": [
    {
     "name": "stdout",
     "output_type": "stream",
     "text": [
      "starting edit_gross_df\n",
      "starting rename_fields\n",
      "ending rename_fields ; time: 0.059236764907836914\n",
      "ending edit_gross_df ; time: 0.061020851135253906\n"
     ]
    }
   ],
   "source": [
    "prep_props = rpt.edit_gross_df(props)"
   ]
  },
  {
   "cell_type": "code",
   "execution_count": 6,
   "metadata": {},
   "outputs": [
    {
     "name": "stdout",
     "output_type": "stream",
     "text": [
      "starting frame_splain\n",
      "<class 'pandas.core.frame.DataFrame'>\n",
      "RangeIndex: 18639 entries, 0 to 18638\n",
      "Data columns (total 62 columns):\n",
      "nbr_bedrms                    18639 non-null float64\n",
      "nbr_bthrms                    18639 non-null float64\n",
      "finished_sqft                 18639 non-null float64\n",
      "taxable_value                 18639 non-null float64\n",
      "county                        18639 non-null object\n",
      "tax_rate                      18639 non-null float64\n",
      "id                            18639 non-null int64\n",
      "pid                           18639 non-null int64\n",
      "airconditioningtypeid         6547 non-null float64\n",
      "airconditioningdesc           6547 non-null object\n",
      "basementsqft                  12 non-null float64\n",
      "buildingqualitytypeid         12842 non-null float64\n",
      "calculatedbathnbr             18633 non-null float64\n",
      "decktypeid                    140 non-null float64\n",
      "finishedfloor1squarefeet      1485 non-null float64\n",
      "finishedsquarefeet12          18589 non-null float64\n",
      "finishedsquarefeet13          7 non-null float64\n",
      "finishedsquarefeet15          2 non-null float64\n",
      "finishedsquarefeet50          1485 non-null float64\n",
      "finishedsquarefeet6           41 non-null float64\n",
      "fips                          18639 non-null float64\n",
      "state                         18639 non-null object\n",
      "fireplacecnt                  2222 non-null float64\n",
      "fullbathcnt                   18633 non-null float64\n",
      "garagecarcnt                  5563 non-null float64\n",
      "garagetotalsqft               5563 non-null float64\n",
      "hashottuborspa                476 non-null float64\n",
      "heatingorsystemtypeid         12937 non-null float64\n",
      "heatingorsystemdesc           12937 non-null object\n",
      "latitude                      18639 non-null float64\n",
      "longitude                     18639 non-null float64\n",
      "lotsizesquarefeet             18639 non-null float64\n",
      "poolcnt                       4509 non-null float64\n",
      "poolsizesum                   266 non-null float64\n",
      "pooltypeid10                  134 non-null float64\n",
      "pooltypeid2                   342 non-null float64\n",
      "pooltypeid7                   4164 non-null float64\n",
      "propertycountylandusecode     18639 non-null object\n",
      "propertylandusetypeid         18639 non-null float64\n",
      "propertylandusedesc           18639 non-null object\n",
      "propertyzoningdesc            12901 non-null object\n",
      "rawcensustractandblock        18639 non-null float64\n",
      "regionidcity                  18275 non-null float64\n",
      "regionidcounty                18639 non-null float64\n",
      "regionidneighborhood          7554 non-null float64\n",
      "regionidzip                   18633 non-null float64\n",
      "roomcnt                       18639 non-null float64\n",
      "threequarterbathnbr           2128 non-null float64\n",
      "unitcnt                       12917 non-null float64\n",
      "yardbuildingsqft17            654 non-null float64\n",
      "yardbuildingsqft26            22 non-null float64\n",
      "yearbuilt                     18622 non-null float64\n",
      "numberofstories               4377 non-null float64\n",
      "fireplaceflag                 23 non-null float64\n",
      "structuretaxvaluedollarcnt    18624 non-null float64\n",
      "assessmentyear                18639 non-null float64\n",
      "landtaxvaluedollarcnt         18639 non-null float64\n",
      "taxamount                     18639 non-null float64\n",
      "taxdelinquencyflag            638 non-null object\n",
      "taxdelinquencyyear            638 non-null float64\n",
      "censustractandblock           18614 non-null float64\n",
      "transactiondate               18639 non-null object\n",
      "dtypes: float64(51), int64(2), object(9)\n",
      "memory usage: 8.8+ MB\n",
      "prep_props shape:\n",
      " (18639, 62) \n",
      "\n",
      "prep_props description:\n",
      "          nbr_bedrms    nbr_bthrms  finished_sqft  taxable_value      tax_rate  \\\n",
      "count  18639.000000  18639.000000   18639.000000   1.863900e+04  18639.000000   \n",
      "mean       2.329229      3.125168    1831.181126   5.115606e+05      0.013260   \n",
      "std        0.970814      0.986794     952.169130   6.698696e+05      0.006144   \n",
      "min        1.000000      1.000000     242.000000   1.050400e+04      0.000141   \n",
      "25%        2.000000      2.000000    1214.000000   2.071050e+05      0.011698   \n",
      "50%        2.000000      3.000000    1582.000000   3.685350e+05      0.012282   \n",
      "75%        3.000000      4.000000    2179.000000   6.044115e+05      0.013505   \n",
      "max       11.000000     11.000000   15450.000000   2.385837e+07      0.452884   \n",
      "\n",
      "                 id           pid  airconditioningtypeid  basementsqft  \\\n",
      "count  1.863900e+04  1.863900e+04            6547.000000     12.000000   \n",
      "mean   1.510927e+06  1.283401e+07               1.884375    756.333333   \n",
      "std    8.600526e+05  2.800759e+06               3.091720    424.486927   \n",
      "min    3.490000e+02  1.071210e+07               1.000000    280.000000   \n",
      "25%    7.731980e+05  1.143632e+07               1.000000    548.500000   \n",
      "50%    1.527727e+06  1.243708e+07               1.000000    670.000000   \n",
      "75%    2.254242e+06  1.402864e+07               1.000000    842.250000   \n",
      "max    2.982270e+06  1.629608e+08              13.000000   1809.000000   \n",
      "\n",
      "       buildingqualitytypeid  ...  yardbuildingsqft26     yearbuilt  \\\n",
      "count           12842.000000  ...           22.000000  18622.000000   \n",
      "mean                6.634636  ...          221.545455   1967.577489   \n",
      "std                 1.681142  ...          172.914437     22.790095   \n",
      "min                 1.000000  ...           28.000000   1878.000000   \n",
      "25%                 6.000000  ...           67.500000   1953.000000   \n",
      "50%                 7.000000  ...          195.000000   1967.000000   \n",
      "75%                 8.000000  ...          354.000000   1985.000000   \n",
      "max                12.000000  ...          648.000000   2015.000000   \n",
      "\n",
      "       numberofstories  fireplaceflag  structuretaxvaluedollarcnt  \\\n",
      "count      4377.000000           23.0                1.862400e+04   \n",
      "mean          1.425177            1.0                1.965540e+05   \n",
      "std           0.537392            0.0                2.448407e+05   \n",
      "min           1.000000            1.0                4.700000e+02   \n",
      "25%           1.000000            1.0                8.590550e+04   \n",
      "50%           1.000000            1.0                1.406970e+05   \n",
      "75%           2.000000            1.0                2.278292e+05   \n",
      "max           3.000000            1.0                7.893568e+06   \n",
      "\n",
      "       assessmentyear  landtaxvaluedollarcnt      taxamount  \\\n",
      "count         18639.0           1.863900e+04   18639.000000   \n",
      "mean           2016.0           3.151647e+05    6241.951004   \n",
      "std               0.0           4.800303e+05    7755.302973   \n",
      "min            2016.0           2.250000e+03      19.920000   \n",
      "25%            2016.0           8.174100e+04    2739.735000   \n",
      "50%            2016.0           2.080470e+05    4586.810000   \n",
      "75%            2016.0           3.921355e+05    7251.650000   \n",
      "max            2016.0           1.635060e+07  276797.830000   \n",
      "\n",
      "       taxdelinquencyyear  censustractandblock  \n",
      "count          638.000000         1.861400e+04  \n",
      "mean            14.065831         6.048206e+13  \n",
      "std              1.486324         2.058468e+11  \n",
      "min              8.000000         6.037101e+13  \n",
      "25%             14.000000         6.037302e+13  \n",
      "50%             15.000000         6.037576e+13  \n",
      "75%             15.000000         6.059032e+13  \n",
      "max             15.000000         6.111009e+13  \n",
      "\n",
      "[8 rows x 53 columns] \n",
      "\n",
      "prep_props info:\n",
      " None \n",
      "\n",
      "ending frame_splain ; time: 0.2611207962036133\n"
     ]
    }
   ],
   "source": [
    "rpt.frame_splain(prep_props, 'prep_props')"
   ]
  },
  {
   "cell_type": "code",
   "execution_count": 7,
   "metadata": {},
   "outputs": [
    {
     "name": "stdout",
     "output_type": "stream",
     "text": [
      "starting edit_prep_df\n",
      "ending edit_prep_df ; time: 0.003763914108276367\n"
     ]
    }
   ],
   "source": [
    "prepped = rpt.edit_prep_df(prep_props)"
   ]
  },
  {
   "cell_type": "code",
   "execution_count": 8,
   "metadata": {},
   "outputs": [
    {
     "name": "stdout",
     "output_type": "stream",
     "text": [
      "starting frame_splain\n",
      "<class 'pandas.core.frame.DataFrame'>\n",
      "RangeIndex: 18639 entries, 0 to 18638\n",
      "Data columns (total 4 columns):\n",
      "nbr_bthrms       18639 non-null float64\n",
      "nbr_bedrms       18639 non-null float64\n",
      "finished_sqft    18639 non-null float64\n",
      "taxable_value    18639 non-null float64\n",
      "dtypes: float64(4)\n",
      "memory usage: 582.5 KB\n",
      "prepped shape:\n",
      " (18639, 4) \n",
      "\n",
      "prepped description:\n",
      "          nbr_bthrms    nbr_bedrms  finished_sqft  taxable_value\n",
      "count  18639.000000  18639.000000   18639.000000   1.863900e+04\n",
      "mean       3.125168      2.329229    1831.181126   5.115606e+05\n",
      "std        0.986794      0.970814     952.169130   6.698696e+05\n",
      "min        1.000000      1.000000     242.000000   1.050400e+04\n",
      "25%        2.000000      2.000000    1214.000000   2.071050e+05\n",
      "50%        3.000000      2.000000    1582.000000   3.685350e+05\n",
      "75%        4.000000      3.000000    2179.000000   6.044115e+05\n",
      "max       11.000000     11.000000   15450.000000   2.385837e+07 \n",
      "\n",
      "prepped info:\n",
      " None \n",
      "\n",
      "ending frame_splain ; time: 0.07401537895202637\n"
     ]
    }
   ],
   "source": [
    "rpt.frame_splain(prepped, 'prepped')"
   ]
  },
  {
   "cell_type": "code",
   "execution_count": 9,
   "metadata": {},
   "outputs": [],
   "source": [
    "# props.shape"
   ]
  },
  {
   "cell_type": "code",
   "execution_count": 10,
   "metadata": {},
   "outputs": [],
   "source": [
    "# props.index.value_counts().head(10)"
   ]
  },
  {
   "cell_type": "code",
   "execution_count": 11,
   "metadata": {},
   "outputs": [
    {
     "name": "stdout",
     "output_type": "stream",
     "text": [
      "starting set_context\n",
      "starting split_my_data\n",
      "ending split_my_data ; time: 0.003509044647216797\n",
      "starting standard_scaler\n",
      "starting scalem\n",
      "ending scalem ; time: 0.011317014694213867\n",
      "ending standard_scaler ; time: 0.01623702049255371\n",
      "starting xy_df\n",
      "ending xy_df ; time: 0.002794981002807617\n",
      "starting xy_df\n",
      "ending xy_df ; time: 0.0013439655303955078\n",
      "starting xy_df\n",
      "ending xy_df ; time: 0.0022318363189697266\n",
      "starting xy_df\n",
      "ending xy_df ; time: 0.0019881725311279297\n",
      "ending set_context ; time: 0.08686995506286621\n"
     ]
    },
    {
     "data": {
      "text/plain": [
       "split_scale.Context"
      ]
     },
     "execution_count": 11,
     "metadata": {},
     "output_type": "execute_result"
    }
   ],
   "source": [
    "context = rpt.set_context(target_df=prepped, scaler_fn=rpt.standard_scaler)\n",
    "type(context)"
   ]
  },
  {
   "cell_type": "code",
   "execution_count": null,
   "metadata": {},
   "outputs": [],
   "source": []
  },
  {
   "cell_type": "code",
   "execution_count": 14,
   "metadata": {},
   "outputs": [
    {
     "name": "stdout",
     "output_type": "stream",
     "text": [
      "(13979, 4)\n",
      "(13979, 1)\n",
      "(13979, 5)\n",
      "450000.0\n"
     ]
    }
   ],
   "source": [
    "X_train = context.X_train\n",
    "print(X_train.shape)\n",
    "y_train = context.y_train\n",
    "print(y_train.shape)\n",
    "train = X_train.join(y_train)\n",
    "print(train.shape)\n",
    "\n",
    "print(train.taxable_value.value_counts().idxmax())\n"
   ]
  },
  {
   "cell_type": "code",
   "execution_count": 15,
   "metadata": {},
   "outputs": [
    {
     "name": "stdout",
     "output_type": "stream",
     "text": [
      "starting pairplot_train\n"
     ]
    },
    {
     "data": {
      "image/png": "[encoded data removed]",
      "text/plain": [
       "<Figure size 900x900 with 30 Axes>"
      ]
     },
     "metadata": {
      "needs_background": "light"
     },
     "output_type": "display_data"
    },
    {
     "name": "stdout",
     "output_type": "stream",
     "text": [
      "ending pairplot_train ; time: 8.964550256729126\n"
     ]
    }
   ],
   "source": [
    "rpt.pairplot_train(train)"
   ]
  },
  {
   "cell_type": "code",
   "execution_count": 16,
   "metadata": {},
   "outputs": [
    {
     "name": "stdout",
     "output_type": "stream",
     "text": [
      "starting heatmap_train\n"
     ]
    },
    {
     "data": {
      "image/png": "[encoded data removed]",
      "text/plain": [
       "<Figure size 504x360 with 2 Axes>"
      ]
     },
     "metadata": {
      "needs_background": "light"
     },
     "output_type": "display_data"
    },
    {
     "name": "stdout",
     "output_type": "stream",
     "text": [
      "ending heatmap_train ; time: 0.3201611042022705\n"
     ]
    }
   ],
   "source": [
    "rpt.heatmap_train(train)"
   ]
  },
  {
   "cell_type": "code",
   "execution_count": 17,
   "metadata": {},
   "outputs": [],
   "source": [
    "\n",
    "#train = rpt.df_join_xy(X=X_train, y=y_train)\n",
    "#OLS object to analyze features\n",
    "\n",
    "# ols_model = sm.OLS(y_train,X_train)\n",
    "# fit = ols_model.fit()\n",
    "# fit.summary()\n",
    "\n",
    "ols_model = ols('y_train ~ X_train',data=train).fit()\n",
    "train['yhat'] = ols_model.predict(y_train)"
   ]
  },
  {
   "cell_type": "code",
   "execution_count": 18,
   "metadata": {},
   "outputs": [
    {
     "data": {
      "text/plain": [
       "0.38962818533644716"
      ]
     },
     "execution_count": 18,
     "metadata": {},
     "output_type": "execute_result"
    }
   ],
   "source": [
    "\n",
    "#r2 of \n",
    "r2_lm1 = r2_score(y_train,train.yhat)\n",
    "r2_lm1"
   ]
  },
  {
   "cell_type": "code",
   "execution_count": 29,
   "metadata": {},
   "outputs": [
    {
     "data": {
      "text/html": [
       "<div>\n",
       "<style scoped>\n",
       "    .dataframe tbody tr th:only-of-type {\n",
       "        vertical-align: middle;\n",
       "    }\n",
       "\n",
       "    .dataframe tbody tr th {\n",
       "        vertical-align: top;\n",
       "    }\n",
       "\n",
       "    .dataframe thead th {\n",
       "        text-align: right;\n",
       "    }\n",
       "</style>\n",
       "<table border=\"1\" class=\"dataframe\">\n",
       "  <thead>\n",
       "    <tr style=\"text-align: right;\">\n",
       "      <th></th>\n",
       "      <th>nbr_bthrms</th>\n",
       "      <th>nbr_bedrms</th>\n",
       "      <th>finished_sqft</th>\n",
       "      <th>dummy_val</th>\n",
       "      <th>taxable_value</th>\n",
       "      <th>yhat</th>\n",
       "      <th>residual</th>\n",
       "      <th>residual2</th>\n",
       "      <th>tax_mean</th>\n",
       "    </tr>\n",
       "  </thead>\n",
       "  <tbody>\n",
       "    <tr>\n",
       "      <th>18321</th>\n",
       "      <td>3.0</td>\n",
       "      <td>2.0</td>\n",
       "      <td>2163.0</td>\n",
       "      <td>1</td>\n",
       "      <td>106818.0</td>\n",
       "      <td>6.816894e+05</td>\n",
       "      <td>5.748714e+05</td>\n",
       "      <td>3.304772e+11</td>\n",
       "      <td>509852.115745</td>\n",
       "    </tr>\n",
       "    <tr>\n",
       "      <th>8440</th>\n",
       "      <td>6.0</td>\n",
       "      <td>8.0</td>\n",
       "      <td>8706.0</td>\n",
       "      <td>1</td>\n",
       "      <td>4984456.0</td>\n",
       "      <td>3.708474e+06</td>\n",
       "      <td>-1.275982e+06</td>\n",
       "      <td>1.628130e+12</td>\n",
       "      <td>509852.115745</td>\n",
       "    </tr>\n",
       "    <tr>\n",
       "      <th>8197</th>\n",
       "      <td>3.0</td>\n",
       "      <td>2.0</td>\n",
       "      <td>1773.0</td>\n",
       "      <td>1</td>\n",
       "      <td>72886.0</td>\n",
       "      <td>4.872435e+05</td>\n",
       "      <td>4.143575e+05</td>\n",
       "      <td>1.716922e+11</td>\n",
       "      <td>509852.115745</td>\n",
       "    </tr>\n",
       "    <tr>\n",
       "      <th>6622</th>\n",
       "      <td>4.0</td>\n",
       "      <td>2.0</td>\n",
       "      <td>2150.0</td>\n",
       "      <td>1</td>\n",
       "      <td>2080471.0</td>\n",
       "      <td>5.329566e+05</td>\n",
       "      <td>-1.547514e+06</td>\n",
       "      <td>2.394801e+12</td>\n",
       "      <td>509852.115745</td>\n",
       "    </tr>\n",
       "    <tr>\n",
       "      <th>6849</th>\n",
       "      <td>1.0</td>\n",
       "      <td>1.0</td>\n",
       "      <td>975.0</td>\n",
       "      <td>1</td>\n",
       "      <td>314727.0</td>\n",
       "      <td>3.419908e+05</td>\n",
       "      <td>2.726381e+04</td>\n",
       "      <td>7.433151e+08</td>\n",
       "      <td>509852.115745</td>\n",
       "    </tr>\n",
       "  </tbody>\n",
       "</table>\n",
       "</div>"
      ],
      "text/plain": [
       "       nbr_bthrms  nbr_bedrms  finished_sqft  dummy_val  taxable_value  \\\n",
       "18321         3.0         2.0         2163.0          1       106818.0   \n",
       "8440          6.0         8.0         8706.0          1      4984456.0   \n",
       "8197          3.0         2.0         1773.0          1        72886.0   \n",
       "6622          4.0         2.0         2150.0          1      2080471.0   \n",
       "6849          1.0         1.0          975.0          1       314727.0   \n",
       "\n",
       "               yhat      residual     residual2       tax_mean  \n",
       "18321  6.816894e+05  5.748714e+05  3.304772e+11  509852.115745  \n",
       "8440   3.708474e+06 -1.275982e+06  1.628130e+12  509852.115745  \n",
       "8197   4.872435e+05  4.143575e+05  1.716922e+11  509852.115745  \n",
       "6622   5.329566e+05 -1.547514e+06  2.394801e+12  509852.115745  \n",
       "6849   3.419908e+05  2.726381e+04  7.433151e+08  509852.115745  "
      ]
     },
     "execution_count": 29,
     "metadata": {},
     "output_type": "execute_result"
    }
   ],
   "source": [
    "#creating baseline with mean of tax value\n",
    "train['tax_mean'] = train.taxable_value.mean()\n",
    "train.head()"
   ]
  },
  {
   "cell_type": "code",
   "execution_count": 21,
   "metadata": {},
   "outputs": [
    {
     "data": {
      "text/html": [
       "<div>\n",
       "<style scoped>\n",
       "    .dataframe tbody tr th:only-of-type {\n",
       "        vertical-align: middle;\n",
       "    }\n",
       "\n",
       "    .dataframe tbody tr th {\n",
       "        vertical-align: top;\n",
       "    }\n",
       "\n",
       "    .dataframe thead th {\n",
       "        text-align: right;\n",
       "    }\n",
       "</style>\n",
       "<table border=\"1\" class=\"dataframe\">\n",
       "  <thead>\n",
       "    <tr style=\"text-align: right;\">\n",
       "      <th></th>\n",
       "      <th>nbr_bthrms</th>\n",
       "      <th>nbr_bedrms</th>\n",
       "      <th>finished_sqft</th>\n",
       "      <th>dummy_val</th>\n",
       "      <th>taxable_value</th>\n",
       "      <th>yhat</th>\n",
       "      <th>residual</th>\n",
       "      <th>residual2</th>\n",
       "    </tr>\n",
       "  </thead>\n",
       "  <tbody>\n",
       "    <tr>\n",
       "      <th>18321</th>\n",
       "      <td>3.0</td>\n",
       "      <td>2.0</td>\n",
       "      <td>2163.0</td>\n",
       "      <td>1</td>\n",
       "      <td>106818.0</td>\n",
       "      <td>6.816894e+05</td>\n",
       "      <td>5.748714e+05</td>\n",
       "      <td>3.304772e+11</td>\n",
       "    </tr>\n",
       "    <tr>\n",
       "      <th>8440</th>\n",
       "      <td>6.0</td>\n",
       "      <td>8.0</td>\n",
       "      <td>8706.0</td>\n",
       "      <td>1</td>\n",
       "      <td>4984456.0</td>\n",
       "      <td>3.708474e+06</td>\n",
       "      <td>-1.275982e+06</td>\n",
       "      <td>1.628130e+12</td>\n",
       "    </tr>\n",
       "    <tr>\n",
       "      <th>8197</th>\n",
       "      <td>3.0</td>\n",
       "      <td>2.0</td>\n",
       "      <td>1773.0</td>\n",
       "      <td>1</td>\n",
       "      <td>72886.0</td>\n",
       "      <td>4.872435e+05</td>\n",
       "      <td>4.143575e+05</td>\n",
       "      <td>1.716922e+11</td>\n",
       "    </tr>\n",
       "    <tr>\n",
       "      <th>6622</th>\n",
       "      <td>4.0</td>\n",
       "      <td>2.0</td>\n",
       "      <td>2150.0</td>\n",
       "      <td>1</td>\n",
       "      <td>2080471.0</td>\n",
       "      <td>5.329566e+05</td>\n",
       "      <td>-1.547514e+06</td>\n",
       "      <td>2.394801e+12</td>\n",
       "    </tr>\n",
       "    <tr>\n",
       "      <th>6849</th>\n",
       "      <td>1.0</td>\n",
       "      <td>1.0</td>\n",
       "      <td>975.0</td>\n",
       "      <td>1</td>\n",
       "      <td>314727.0</td>\n",
       "      <td>3.419908e+05</td>\n",
       "      <td>2.726381e+04</td>\n",
       "      <td>7.433151e+08</td>\n",
       "    </tr>\n",
       "  </tbody>\n",
       "</table>\n",
       "</div>"
      ],
      "text/plain": [
       "       nbr_bthrms  nbr_bedrms  finished_sqft  dummy_val  taxable_value  \\\n",
       "18321         3.0         2.0         2163.0          1       106818.0   \n",
       "8440          6.0         8.0         8706.0          1      4984456.0   \n",
       "8197          3.0         2.0         1773.0          1        72886.0   \n",
       "6622          4.0         2.0         2150.0          1      2080471.0   \n",
       "6849          1.0         1.0          975.0          1       314727.0   \n",
       "\n",
       "               yhat      residual     residual2  \n",
       "18321  6.816894e+05  5.748714e+05  3.304772e+11  \n",
       "8440   3.708474e+06 -1.275982e+06  1.628130e+12  \n",
       "8197   4.872435e+05  4.143575e+05  1.716922e+11  \n",
       "6622   5.329566e+05 -1.547514e+06  2.394801e+12  \n",
       "6849   3.419908e+05  2.726381e+04  7.433151e+08  "
      ]
     },
     "execution_count": 21,
     "metadata": {},
     "output_type": "execute_result"
    }
   ],
   "source": [
    "#creating residual of tax value vs expected tax value\n",
    "train['residual'] = train['yhat'] - train['taxable_value']\n",
    "train['residual2'] = train.residual **2\n",
    "train.head()"
   ]
  },
  {
   "cell_type": "markdown",
   "metadata": {},
   "source": [
    "## MVP"
   ]
  },
  {
   "cell_type": "code",
   "execution_count": 22,
   "metadata": {},
   "outputs": [],
   "source": [
    "\n",
    "from sklearn.linear_model import LinearRegression\n",
    "#pick model type, Linear Regression for the MVP baseline\n",
    "lm1 = LinearRegression()"
   ]
  },
  {
   "cell_type": "code",
   "execution_count": 23,
   "metadata": {},
   "outputs": [
    {
     "name": "stdout",
     "output_type": "stream",
     "text": [
      "taxable_value = b + m1 * nbr_bthrms + m2 * nbr_bedrms\n",
      "    y-intercept  (b): -33761.74\n",
      "    coefficient (m1): -142251.30\n",
      "    coefficient (m2): 31889.08\n"
     ]
    }
   ],
   "source": [
    "#fit and train model\n",
    "lm1.fit(X_train,y_train)\n",
    "lm1_y_intercept = lm1.intercept_\n",
    "lm1_coefficients = lm1.coef_\n",
    "\n",
    "print('{} = b + m1 * {} + m2 * {}'.format(y_train.columns[0], X_train.columns[0],X_train.columns[1]))\n",
    "print('    y-intercept  (b): %.2f' % lm1_y_intercept)\n",
    "print('    coefficient (m1): %.2f' % lm1_coefficients[0][0])\n",
    "print('    coefficient (m2): %.2f' % lm1_coefficients[0][1])"
   ]
  },
  {
   "cell_type": "code",
   "execution_count": 26,
   "metadata": {},
   "outputs": [],
   "source": [
    "\n",
    "#converting y_train to panda series\n",
    "y_train = y_train.taxable_value"
   ]
  },
  {
   "cell_type": "code",
   "execution_count": 27,
   "metadata": {},
   "outputs": [
    {
     "data": {
      "text/plain": [
       "<matplotlib.axes._subplots.AxesSubplot at 0x1c23c065c0>"
      ]
     },
     "execution_count": 27,
     "metadata": {},
     "output_type": "execute_result"
    },
    {
     "data": {
      "image/png": "[encoded data removed]",
      "text/plain": [
       "<Figure size 432x288 with 1 Axes>"
      ]
     },
     "metadata": {
      "needs_background": "light"
     },
     "output_type": "display_data"
    }
   ],
   "source": [
    "#Plotting residuals\n",
    "sns.residplot(y_train,train.yhat)"
   ]
  },
  {
   "cell_type": "code",
   "execution_count": 28,
   "metadata": {},
   "outputs": [
    {
     "name": "stdout",
     "output_type": "stream",
     "text": [
      "4000116101697015.5 286151806402.2473 534931.5903947413 0.3896281853364473\n"
     ]
    }
   ],
   "source": [
    "#MSE, SSE, RMSE\n",
    "import math\n",
    "sse = sum(train.residual2)\n",
    "mse = sse/len(train)\n",
    "rmse = math.sqrt(mse)\n",
    "r2 = ols_model.rsquared\n",
    "print(sse,mse,rmse,r2)"
   ]
  },
  {
   "cell_type": "code",
   "execution_count": null,
   "metadata": {},
   "outputs": [],
   "source": []
  }
 ],
 "metadata": {
  "kernelspec": {
   "display_name": "Python 3",
   "language": "python",
   "name": "python3"
  },
  "language_info": {
   "codemirror_mode": {
    "name": "ipython",
    "version": 3
   },
   "file_extension": ".py",
   "mimetype": "text/x-python",
   "name": "python",
   "nbconvert_exporter": "python",
   "pygments_lexer": "ipython3",
   "version": "3.7.3"
  }
 },
 "nbformat": 4,
 "nbformat_minor": 2
}
